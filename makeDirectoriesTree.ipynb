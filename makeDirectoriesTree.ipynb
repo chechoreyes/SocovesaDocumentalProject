{
 "cells": [
  {
   "cell_type": "code",
   "execution_count": 1,
   "metadata": {},
   "outputs": [],
   "source": [
    "import os\n",
    "import json\n"
   ]
  },
  {
   "cell_type": "code",
   "execution_count": 6,
   "metadata": {},
   "outputs": [],
   "source": [
    "with open('structureTree.json', 'r', encoding='utf-8') as f:\n",
    "    structureTree = json.load(f)\n"
   ]
  },
  {
   "cell_type": "code",
   "execution_count": 7,
   "metadata": {},
   "outputs": [],
   "source": [
    "folderList = []\n",
    "for proyecto in structureTree['proyectos']:\n",
    "    for documentos in proyecto['documents']:\n",
    "        for level3 in documentos['documents']:\n",
    "            for level4 in level3['document']:\n",
    "                folderList.append(\n",
    "                    proyecto['name']+\"\\\\\"+documentos['nameLevel']+'\\\\'+level3['nameLevel']+'\\\\'+level4['name'])\n"
   ]
  },
  {
   "cell_type": "code",
   "execution_count": 8,
   "metadata": {},
   "outputs": [
    {
     "data": {
      "text/plain": [
       "['ProyectoQA\\\\01_Gestión_Territorial\\\\01_Antecedentes_Previos\\\\01_Títulos_Anteriores',\n",
       " 'ProyectoQA\\\\01_Gestión_Territorial\\\\01_Antecedentes_Previos\\\\02_Varios',\n",
       " 'ProyectoQA\\\\01_Gestión_Territorial\\\\02_Legal\\\\01_Títulos',\n",
       " 'ProyectoQA\\\\01_Gestión_Territorial\\\\02_Legal\\\\02_Archivo_Certificados',\n",
       " 'ProyectoQA\\\\01_Gestión_Territorial\\\\02_Legal\\\\03_Archivo_Permisos',\n",
       " 'ProyectoQA\\\\01_Gestión_Territorial\\\\02_Legal\\\\04_Archivo_Recepciones',\n",
       " 'ProyectoQA\\\\01_Gestión_Territorial\\\\02_Legal\\\\04_Archivo_Copropiedad',\n",
       " 'ProyectoQA\\\\01_Gestión_Territorial\\\\02_Legal\\\\05_Societarios',\n",
       " 'ProyectoQA\\\\01_Gestión_Territorial\\\\03_Certificados\\\\01_CIP',\n",
       " 'ProyectoQA\\\\01_Gestión_Territorial\\\\03_Certificados\\\\02_Certificado_Asignacion_Roles',\n",
       " 'ProyectoQA\\\\01_Gestión_Territorial\\\\03_Certificados\\\\03_Certificado_Avaluo_Fiscal',\n",
       " 'ProyectoQA\\\\01_Gestión_Territorial\\\\03_Certificados\\\\04_Certificado_Numero',\n",
       " 'ProyectoQA\\\\01_Gestión_Territorial\\\\03_Certificados\\\\05_Certificado_No_Expropiacion',\n",
       " 'ProyectoQA\\\\01_Gestión_Territorial\\\\03_Contribuciones\\\\01_Avaluos_Fiscales',\n",
       " 'ProyectoQA\\\\01_Gestión_Territorial\\\\03_Contribuciones\\\\02_Catastrales',\n",
       " 'ProyectoQA\\\\01_Gestión_Territorial\\\\04_Evaluaciones_Previas\\\\01_CosteoTerrenos',\n",
       " 'ProyectoQA\\\\02_Gestion_del_Proyecto\\\\01_Producto\\\\01_Planning',\n",
       " 'ProyectoQA\\\\02_Gestion_del_Proyecto\\\\01_Producto\\\\02_Encargo_Inmobiliario',\n",
       " 'ProyectoQA\\\\02_Gestion_del_Proyecto\\\\01_Producto\\\\03_Temblor_Arquitectura_General',\n",
       " 'ProyectoQA\\\\02_Gestion_del_Proyecto\\\\01_Producto\\\\04_Firma_Arquitectura_General',\n",
       " 'ProyectoQA\\\\02_Gestion_del_Proyecto\\\\01_Producto\\\\05_Evaluacion_Preliminar',\n",
       " 'ProyectoQA\\\\02_Gestion_del_Proyecto\\\\01_Producto\\\\06_Kick_Off_Presupuestos',\n",
       " 'ProyectoQA\\\\02_Gestion_del_Proyecto\\\\01_Producto\\\\07_Lineas_Bases',\n",
       " 'ProyectoQA\\\\02_Gestion_del_Proyecto\\\\01_Producto\\\\08_Cartillas_de_Hitos',\n",
       " 'ProyectoQA\\\\02_Gestion_del_Proyecto\\\\01_Producto\\\\09_Costeos',\n",
       " 'ProyectoQA\\\\02_Gestion_del_Proyecto\\\\02_Evaluacion_Comercial\\\\01_Evaluacion_Dich',\n",
       " 'ProyectoQA\\\\02_Gestion_del_Proyecto\\\\02_Evaluacion_Comercial\\\\02_Temblor_Directorio',\n",
       " 'ProyectoQA\\\\02_Gestion_del_Proyecto\\\\03_Venta\\\\01_Mantras',\n",
       " 'ProyectoQA\\\\02_Gestion_del_Proyecto\\\\03_Venta\\\\02_Kick_Off',\n",
       " 'ProyectoQA\\\\02_Gestion_del_Proyecto\\\\04_Marketing\\\\01_Brochure',\n",
       " 'ProyectoQA\\\\02_Gestion_del_Proyecto\\\\04_Marketing\\\\02_Imagineria',\n",
       " 'ProyectoQA\\\\02_Gestion_del_Proyecto\\\\04_Marketing\\\\03_Sala_de_Ventas',\n",
       " 'ProyectoQA\\\\02_Gestion_del_Proyecto\\\\04_Marketing\\\\04_Letrero_de_Obra']"
      ]
     },
     "execution_count": 8,
     "metadata": {},
     "output_type": "execute_result"
    }
   ],
   "source": [
    "folderList\n"
   ]
  },
  {
   "cell_type": "code",
   "execution_count": 9,
   "metadata": {},
   "outputs": [
    {
     "name": "stdout",
     "output_type": "stream",
     "text": [
      "C:\\Insolence\\Projects\\DocumentalProject\\ProyectoQA\\01_Gestión_Territorial\\01_Antecedentes_Previos\\01_Títulos_Anteriores\n",
      "C:\\Insolence\\Projects\\DocumentalProject\\ProyectoQA\\01_Gestión_Territorial\\01_Antecedentes_Previos\\02_Varios\n",
      "C:\\Insolence\\Projects\\DocumentalProject\\ProyectoQA\\01_Gestión_Territorial\\02_Legal\\01_Títulos\n",
      "C:\\Insolence\\Projects\\DocumentalProject\\ProyectoQA\\01_Gestión_Territorial\\02_Legal\\02_Archivo_Certificados\n",
      "C:\\Insolence\\Projects\\DocumentalProject\\ProyectoQA\\01_Gestión_Territorial\\02_Legal\\03_Archivo_Permisos\n",
      "C:\\Insolence\\Projects\\DocumentalProject\\ProyectoQA\\01_Gestión_Territorial\\02_Legal\\04_Archivo_Recepciones\n",
      "C:\\Insolence\\Projects\\DocumentalProject\\ProyectoQA\\01_Gestión_Territorial\\02_Legal\\04_Archivo_Copropiedad\n",
      "C:\\Insolence\\Projects\\DocumentalProject\\ProyectoQA\\01_Gestión_Territorial\\02_Legal\\05_Societarios\n",
      "C:\\Insolence\\Projects\\DocumentalProject\\ProyectoQA\\01_Gestión_Territorial\\03_Certificados\\01_CIP\n",
      "C:\\Insolence\\Projects\\DocumentalProject\\ProyectoQA\\01_Gestión_Territorial\\03_Certificados\\02_Certificado_Asignacion_Roles\n",
      "C:\\Insolence\\Projects\\DocumentalProject\\ProyectoQA\\01_Gestión_Territorial\\03_Certificados\\03_Certificado_Avaluo_Fiscal\n",
      "C:\\Insolence\\Projects\\DocumentalProject\\ProyectoQA\\01_Gestión_Territorial\\03_Certificados\\04_Certificado_Numero\n",
      "C:\\Insolence\\Projects\\DocumentalProject\\ProyectoQA\\01_Gestión_Territorial\\03_Certificados\\05_Certificado_No_Expropiacion\n",
      "C:\\Insolence\\Projects\\DocumentalProject\\ProyectoQA\\01_Gestión_Territorial\\03_Contribuciones\\01_Avaluos_Fiscales\n",
      "C:\\Insolence\\Projects\\DocumentalProject\\ProyectoQA\\01_Gestión_Territorial\\03_Contribuciones\\02_Catastrales\n",
      "C:\\Insolence\\Projects\\DocumentalProject\\ProyectoQA\\01_Gestión_Territorial\\04_Evaluaciones_Previas\\01_CosteoTerrenos\n",
      "C:\\Insolence\\Projects\\DocumentalProject\\ProyectoQA\\02_Gestion_del_Proyecto\\01_Producto\\01_Planning\n",
      "C:\\Insolence\\Projects\\DocumentalProject\\ProyectoQA\\02_Gestion_del_Proyecto\\01_Producto\\02_Encargo_Inmobiliario\n",
      "C:\\Insolence\\Projects\\DocumentalProject\\ProyectoQA\\02_Gestion_del_Proyecto\\01_Producto\\03_Temblor_Arquitectura_General\n",
      "C:\\Insolence\\Projects\\DocumentalProject\\ProyectoQA\\02_Gestion_del_Proyecto\\01_Producto\\04_Firma_Arquitectura_General\n",
      "C:\\Insolence\\Projects\\DocumentalProject\\ProyectoQA\\02_Gestion_del_Proyecto\\01_Producto\\05_Evaluacion_Preliminar\n",
      "C:\\Insolence\\Projects\\DocumentalProject\\ProyectoQA\\02_Gestion_del_Proyecto\\01_Producto\\06_Kick_Off_Presupuestos\n",
      "C:\\Insolence\\Projects\\DocumentalProject\\ProyectoQA\\02_Gestion_del_Proyecto\\01_Producto\\07_Lineas_Bases\n",
      "C:\\Insolence\\Projects\\DocumentalProject\\ProyectoQA\\02_Gestion_del_Proyecto\\01_Producto\\08_Cartillas_de_Hitos\n",
      "C:\\Insolence\\Projects\\DocumentalProject\\ProyectoQA\\02_Gestion_del_Proyecto\\01_Producto\\09_Costeos\n",
      "C:\\Insolence\\Projects\\DocumentalProject\\ProyectoQA\\02_Gestion_del_Proyecto\\02_Evaluacion_Comercial\\01_Evaluacion_Dich\n",
      "C:\\Insolence\\Projects\\DocumentalProject\\ProyectoQA\\02_Gestion_del_Proyecto\\02_Evaluacion_Comercial\\02_Temblor_Directorio\n",
      "C:\\Insolence\\Projects\\DocumentalProject\\ProyectoQA\\02_Gestion_del_Proyecto\\03_Venta\\01_Mantras\n",
      "C:\\Insolence\\Projects\\DocumentalProject\\ProyectoQA\\02_Gestion_del_Proyecto\\03_Venta\\02_Kick_Off\n",
      "C:\\Insolence\\Projects\\DocumentalProject\\ProyectoQA\\02_Gestion_del_Proyecto\\04_Marketing\\01_Brochure\n",
      "C:\\Insolence\\Projects\\DocumentalProject\\ProyectoQA\\02_Gestion_del_Proyecto\\04_Marketing\\02_Imagineria\n",
      "C:\\Insolence\\Projects\\DocumentalProject\\ProyectoQA\\02_Gestion_del_Proyecto\\04_Marketing\\03_Sala_de_Ventas\n",
      "C:\\Insolence\\Projects\\DocumentalProject\\ProyectoQA\\02_Gestion_del_Proyecto\\04_Marketing\\04_Letrero_de_Obra\n"
     ]
    }
   ],
   "source": [
    "root_path = \"C:\\Insolence\\Projects\\DocumentalProject\"\n",
    "for i in folderList:\n",
    "    path = os.path.join(root_path, i)\n",
    "    print(path)\n",
    "    os.makedirs(path)\n"
   ]
  },
  {
   "cell_type": "code",
   "execution_count": null,
   "metadata": {},
   "outputs": [],
   "source": []
  },
  {
   "cell_type": "code",
   "execution_count": null,
   "metadata": {},
   "outputs": [],
   "source": []
  },
  {
   "cell_type": "code",
   "execution_count": null,
   "metadata": {},
   "outputs": [],
   "source": []
  },
  {
   "cell_type": "code",
   "execution_count": null,
   "metadata": {},
   "outputs": [],
   "source": []
  }
 ],
 "metadata": {
  "kernelspec": {
   "display_name": "Python 3.7.13 ('base')",
   "language": "python",
   "name": "python3"
  },
  "language_info": {
   "codemirror_mode": {
    "name": "ipython",
    "version": 3
   },
   "file_extension": ".py",
   "mimetype": "text/x-python",
   "name": "python",
   "nbconvert_exporter": "python",
   "pygments_lexer": "ipython3",
   "version": "3.7.13"
  },
  "orig_nbformat": 4,
  "vscode": {
   "interpreter": {
    "hash": "378d136b99b6670c9976aef99c310eb11ecfa8627979091d161fca7ebaeaa067"
   }
  }
 },
 "nbformat": 4,
 "nbformat_minor": 2
}
