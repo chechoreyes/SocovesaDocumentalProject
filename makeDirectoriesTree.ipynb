{
 "cells": [
  {
   "cell_type": "code",
   "execution_count": 3,
   "metadata": {},
   "outputs": [],
   "source": [
    "import os\n",
    "import json\n"
   ]
  },
  {
   "cell_type": "code",
   "execution_count": 17,
   "metadata": {},
   "outputs": [],
   "source": [
    "with open('structureTree.json', 'r', encoding='utf-8') as f:\n",
    "    structureTree = json.load(f)\n"
   ]
  },
  {
   "cell_type": "code",
   "execution_count": 62,
   "metadata": {},
   "outputs": [],
   "source": [
    "folderList = []\n",
    "for proyecto in structureTree['proyectos']:\n",
    "    for documentos in proyecto['documents']:\n",
    "        for level3 in documentos['documents']:\n",
    "            for level4 in level3['document']:\n",
    "                folderList.append(\n",
    "                    proyecto['name']+\"\\\\\"+documentos['nameLevel']+'\\\\'+level3['nameLevel']+'\\\\'+level4['name'])\n"
   ]
  },
  {
   "cell_type": "code",
   "execution_count": 63,
   "metadata": {},
   "outputs": [
    {
     "data": {
      "text/plain": [
       "['Proyecto 1\\\\Gestión Territorial\\\\Antecedentes Previos\\\\Títulos Anteriores',\n",
       " 'Proyecto 1\\\\Gestión Territorial\\\\Antecedentes Previos\\\\Varios']"
      ]
     },
     "execution_count": 63,
     "metadata": {},
     "output_type": "execute_result"
    }
   ],
   "source": [
    "folderList\n"
   ]
  },
  {
   "cell_type": "code",
   "execution_count": 64,
   "metadata": {},
   "outputs": [
    {
     "name": "stdout",
     "output_type": "stream",
     "text": [
      "C:\\Insolence\\Projects\\DocumentalProject\\Proyecto 1\\Gestión Territorial\\Antecedentes Previos\\Títulos Anteriores\n",
      "C:\\Insolence\\Projects\\DocumentalProject\\Proyecto 1\\Gestión Territorial\\Antecedentes Previos\\Varios\n"
     ]
    }
   ],
   "source": [
    "root_path = \"C:\\Insolence\\Projects\\DocumentalProject\"\n",
    "for i in folderList:\n",
    "    path = os.path.join(root_path, i)\n",
    "    print(path)\n",
    "    os.makedirs(path)\n"
   ]
  },
  {
   "cell_type": "code",
   "execution_count": null,
   "metadata": {},
   "outputs": [],
   "source": []
  }
 ],
 "metadata": {
  "kernelspec": {
   "display_name": "Python 3.9.13 ('base')",
   "language": "python",
   "name": "python3"
  },
  "language_info": {
   "codemirror_mode": {
    "name": "ipython",
    "version": 3
   },
   "file_extension": ".py",
   "mimetype": "text/x-python",
   "name": "python",
   "nbconvert_exporter": "python",
   "pygments_lexer": "ipython3",
   "version": "3.9.13"
  },
  "orig_nbformat": 4,
  "vscode": {
   "interpreter": {
    "hash": "f7e316463b4900e9c1d27877190c8b70d62c13425e8eac32d40d8be098bf72b7"
   }
  }
 },
 "nbformat": 4,
 "nbformat_minor": 2
}
